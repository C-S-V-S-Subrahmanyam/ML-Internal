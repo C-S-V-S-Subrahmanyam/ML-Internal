{
 "cells": [
  {
   "cell_type": "code",
   "execution_count": 1,
   "metadata": {},
   "outputs": [],
   "source": [
    "import numpy as np"
   ]
  },
  {
   "cell_type": "code",
   "execution_count": 2,
   "metadata": {},
   "outputs": [],
   "source": [
    "features = np.array([\n",
    "    [0,0],\n",
    "    [0,1],\n",
    "    [1,0],\n",
    "    [1,1]\n",
    "])\n",
    "labels = np.array([0, 1, 1, 1])  # OR Gate\n"
   ]
  },
  {
   "cell_type": "code",
   "execution_count": 3,
   "metadata": {},
   "outputs": [],
   "source": [
    "epochs = int(input('Enter the number of Epochs: '))\n",
    "threshold = float(input('Enter the Threshold: '))\n",
    "learning_rate = float(input('Enter the Learning Rate: '))\n",
    "\n",
    "# Initialize weights randomly\n",
    "weights = np.array([\n",
    "    float(input('Enter initial weight for x1: ')),\n",
    "    float(input('Enter initial weight for x2: '))\n",
    "])\n"
   ]
  },
  {
   "cell_type": "code",
   "execution_count": 4,
   "metadata": {},
   "outputs": [
    {
     "name": "stdout",
     "output_type": "stream",
     "text": [
      "Epoch 1\n",
      "Input: (0, 0), Predicted: 0, Actual: 0, Error: 0\n",
      "Input: (0, 1), Predicted: 0, Actual: 1, Error: 1\n",
      "Input: (1, 0), Predicted: 0, Actual: 1, Error: 1\n",
      "Input: (1, 1), Predicted: 1, Actual: 1, Error: 0\n",
      "---------------------------\n",
      "Epoch 2\n",
      "Input: (0, 0), Predicted: 0, Actual: 0, Error: 0\n",
      "Input: (0, 1), Predicted: 0, Actual: 1, Error: 1\n",
      "Input: (1, 0), Predicted: 0, Actual: 1, Error: 1\n",
      "Input: (1, 1), Predicted: 1, Actual: 1, Error: 0\n",
      "---------------------------\n",
      "Epoch 3\n",
      "Input: (0, 0), Predicted: 0, Actual: 0, Error: 0\n",
      "Input: (0, 1), Predicted: 1, Actual: 1, Error: 0\n",
      "Input: (1, 0), Predicted: 0, Actual: 1, Error: 1\n",
      "Input: (1, 1), Predicted: 1, Actual: 1, Error: 0\n",
      "---------------------------\n",
      "Epoch 4\n",
      "Input: (0, 0), Predicted: 0, Actual: 0, Error: 0\n",
      "Input: (0, 1), Predicted: 1, Actual: 1, Error: 0\n",
      "Input: (1, 0), Predicted: 1, Actual: 1, Error: 0\n",
      "Input: (1, 1), Predicted: 1, Actual: 1, Error: 0\n",
      "---------------------------\n",
      "Final Weights: [0.5 0.5]\n"
     ]
    }
   ],
   "source": [
    "#training the model\n",
    "for epoch in range(epochs):\n",
    "    print(f\"Epoch {epoch+1}\")\n",
    "    global_error = 0\n",
    "\n",
    "    for i in range(features.shape[0]):\n",
    "        x1, x2 = features[i]\n",
    "        actual_output = labels[i]\n",
    "\n",
    "        # Compute Weighted Sum\n",
    "        weighted_sum = x1 * weights[0] + x2 * weights[1]\n",
    "\n",
    "        # Activation Function (Thresholding)\n",
    "        predicted_output = 1 if weighted_sum >= threshold else 0\n",
    "\n",
    "        # Calculate Error\n",
    "        error = actual_output - predicted_output\n",
    "        global_error += abs(error)\n",
    "\n",
    "        # Print Predictions\n",
    "        print(f\"Input: {x1, x2}, Predicted: {predicted_output}, Actual: {actual_output}, Error: {error}\")\n",
    "\n",
    "        # Update Weights using Perceptron Learning Rule\n",
    "        weights[0] += learning_rate * error * x1\n",
    "        weights[1] += learning_rate * error * x2\n",
    "\n",
    "    print(\"---------------------------\")\n",
    "\n",
    "    # Stop training if no errors\n",
    "    if global_error == 0:\n",
    "        break\n",
    "\n",
    "print(\"Final Weights:\", weights)\n"
   ]
  }
 ],
 "metadata": {
  "kernelspec": {
   "display_name": "base",
   "language": "python",
   "name": "python3"
  },
  "language_info": {
   "codemirror_mode": {
    "name": "ipython",
    "version": 3
   },
   "file_extension": ".py",
   "mimetype": "text/x-python",
   "name": "python",
   "nbconvert_exporter": "python",
   "pygments_lexer": "ipython3",
   "version": "3.12.7"
  }
 },
 "nbformat": 4,
 "nbformat_minor": 2
}
